{
 "cells": [
  {
   "cell_type": "code",
   "execution_count": 1,
   "metadata": {},
   "outputs": [
    {
     "ename": "ModuleNotFoundError",
     "evalue": "No module named 'yfinance'",
     "output_type": "error",
     "traceback": [
      "\u001b[1;31m---------------------------------------------------------------------------\u001b[0m",
      "\u001b[1;31mModuleNotFoundError\u001b[0m                       Traceback (most recent call last)",
      "Cell \u001b[1;32mIn[1], line 1\u001b[0m\n\u001b[1;32m----> 1\u001b[0m \u001b[38;5;28;01mimport\u001b[39;00m \u001b[38;5;21;01myfinance\u001b[39;00m \u001b[38;5;28;01mas\u001b[39;00m \u001b[38;5;21;01myf\u001b[39;00m\n\u001b[0;32m      2\u001b[0m \u001b[38;5;28;01mimport\u001b[39;00m \u001b[38;5;21;01mpandas\u001b[39;00m \u001b[38;5;28;01mas\u001b[39;00m \u001b[38;5;21;01mpd\u001b[39;00m\n",
      "\u001b[1;31mModuleNotFoundError\u001b[0m: No module named 'yfinance'"
     ]
    }
   ],
   "source": [
    "import yfinance as yf\n",
    "import pandas as pd"
   ]
  },
  {
   "cell_type": "code",
   "execution_count": null,
   "metadata": {},
   "outputs": [],
   "source": [
    "# List of ticker symbols\n",
    "ticker_symbols =['BBRI.JK']\n",
    "\n",
    "# Get cash flow data\n",
    "cash_flow_data = {}\n",
    "for ticker_symbol in ticker_symbols:\n",
    "    # Fetch cash flow data\n",
    "    try:\n",
    "        cash_flow_data[ticker_symbol] = yf.Ticker(ticker_symbol).cashflow\n",
    "    except:\n",
    "        print(f\"No data available for {ticker_symbol}\")\n",
    "\n",
    "# LooOOoop\n",
    "for date in cash_flow_data[ticker_symbols[0]].columns:\n",
    "    dfs = []\n",
    "    for ticker_symbol in ticker_symbols:\n",
    "\n",
    "        if ticker_symbol in cash_flow_data:\n",
    "            cash_flow = cash_flow_data[ticker_symbol]\n",
    "\n",
    "            if date in cash_flow.columns:\n",
    "                cash_flow_date = cash_flow[date].to_frame().T\n",
    "\n",
    "                dfs.append(cash_flow_date)\n",
    "\n",
    "    if len(dfs) > 0:\n",
    "        combined_data = pd.concat(dfs, axis=0, keys=ticker_symbols)\n",
    "\n",
    "        # # Transpose DataFrame\n",
    "        # combined_data = combined_data.transpose()\n",
    "\n",
    "        # Save DataFrame to CSV\n",
    "        filename = f'cash_flow_{date.strftime(\"%d-%m-%Y\")}.csv'\n",
    "        combined_data.to_csv(filename)"
   ]
  }
 ],
 "metadata": {
  "kernelspec": {
   "display_name": "Python 3",
   "language": "python",
   "name": "python3"
  },
  "language_info": {
   "codemirror_mode": {
    "name": "ipython",
    "version": 3
   },
   "file_extension": ".py",
   "mimetype": "text/x-python",
   "name": "python",
   "nbconvert_exporter": "python",
   "pygments_lexer": "ipython3",
   "version": "3.9.13"
  }
 },
 "nbformat": 4,
 "nbformat_minor": 2
}
